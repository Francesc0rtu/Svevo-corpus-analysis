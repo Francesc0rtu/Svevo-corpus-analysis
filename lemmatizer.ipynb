{
 "cells": [
  {
   "cell_type": "markdown",
   "id": "60ba2980",
   "metadata": {},
   "source": [
    "Fristly import data-set:"
   ]
  },
  {
   "cell_type": "code",
   "execution_count": 28,
   "id": "29d70b0c",
   "metadata": {},
   "outputs": [
    {
     "data": {
      "text/plain": [
       "(894, 16)"
      ]
     },
     "execution_count": 28,
     "metadata": {},
     "output_type": "execute_result"
    }
   ],
   "source": [
    "import pandas as pd\n",
    "import numpy\n",
    "sett = pd.read_csv(\"cleaned_svevo_dataset.csv\")\n",
    "sett.head(n=50)\n",
    "sett[\"doc\"] =\"\"\n",
    "sett[\"lemmatized_tokens\"] = \"\"\n",
    "sett.shape"
   ]
  },
  {
   "cell_type": "code",
   "execution_count": 29,
   "id": "2c2b01ca",
   "metadata": {},
   "outputs": [
    {
     "name": "stderr",
     "output_type": "stream",
     "text": [
      "/tmp/ipykernel_76880/2394755634.py:11: SettingWithCopyWarning: \n",
      "A value is trying to be set on a copy of a slice from a DataFrame\n",
      "\n",
      "See the caveats in the documentation: https://pandas.pydata.org/pandas-docs/stable/user_guide/indexing.html#returning-a-view-versus-a-copy\n",
      "  sett[\"doc\"][x] = nlp_eng(sett[\"tokens\"][x])\n",
      "/tmp/ipykernel_76880/2394755634.py:9: SettingWithCopyWarning: \n",
      "A value is trying to be set on a copy of a slice from a DataFrame\n",
      "\n",
      "See the caveats in the documentation: https://pandas.pydata.org/pandas-docs/stable/user_guide/indexing.html#returning-a-view-versus-a-copy\n",
      "  sett[\"doc\"][x] = nlp_ita(sett[\"tokens\"][x])\n",
      "/tmp/ipykernel_76880/2394755634.py:13: SettingWithCopyWarning: \n",
      "A value is trying to be set on a copy of a slice from a DataFrame\n",
      "\n",
      "See the caveats in the documentation: https://pandas.pydata.org/pandas-docs/stable/user_guide/indexing.html#returning-a-view-versus-a-copy\n",
      "  sett[\"doc\"][x] = nlp_fr(sett[\"tokens\"][x])\n",
      "/tmp/ipykernel_76880/2394755634.py:15: SettingWithCopyWarning: \n",
      "A value is trying to be set on a copy of a slice from a DataFrame\n",
      "\n",
      "See the caveats in the documentation: https://pandas.pydata.org/pandas-docs/stable/user_guide/indexing.html#returning-a-view-versus-a-copy\n",
      "  sett[\"doc\"][x] = nlp_de(sett[\"tokens\"][x])\n"
     ]
    },
    {
     "name": "stdout",
     "output_type": "stream",
     "text": [
      "ho fatto\n"
     ]
    }
   ],
   "source": [
    "import spacy\n",
    "nlp_ita = spacy.load(\"it_core_news_sm\")\n",
    "nlp_eng = spacy.load(\"en_core_web_sm\")\n",
    "nlp_fr = spacy.load(\"fr_core_news_sm\")\n",
    "nlp_de = spacy.load(\"de_core_news_sm\")\n",
    "\n",
    "for x in range(sett.shape[0]):\n",
    "    if sett[\"mainLanguage\"][x] == \"ITA\" :\n",
    "        sett[\"doc\"][x] = nlp_ita(sett[\"tokens\"][x])\n",
    "    if sett[\"mainLanguage\"][x] == \"ENG\" :\n",
    "        sett[\"doc\"][x] = nlp_eng(sett[\"tokens\"][x])\n",
    "    if sett[\"mainLanguage\"][x] == \"FRE\" :\n",
    "        sett[\"doc\"][x] = nlp_fr(sett[\"tokens\"][x])\n",
    "    if sett[\"mainLanguage\"][x] == \"GER\" :\n",
    "        sett[\"doc\"][x] = nlp_de(sett[\"tokens\"][x])\n",
    "print(\"ho fatto\")\n",
    "\n"
   ]
  },
  {
   "cell_type": "code",
   "execution_count": 37,
   "id": "d5fe9bd5",
   "metadata": {
    "scrolled": true
   },
   "outputs": [
    {
     "name": "stderr",
     "output_type": "stream",
     "text": [
      "/tmp/ipykernel_76880/3051945897.py:2: SettingWithCopyWarning: \n",
      "A value is trying to be set on a copy of a slice from a DataFrame\n",
      "\n",
      "See the caveats in the documentation: https://pandas.pydata.org/pandas-docs/stable/user_guide/indexing.html#returning-a-view-versus-a-copy\n",
      "  sett[\"lemmatized_tokens\"][i] = \" \".join(token.lemma_ for token in sett[\"doc\"][i])\n"
     ]
    }
   ],
   "source": [
    "for i in range(sett.shape[0]):\n",
    "    sett[\"lemmatized_tokens\"][i] = \" \".join(token.lemma_ for token in sett[\"doc\"][i])\n",
    "    \n",
    "    "
   ]
  },
  {
   "cell_type": "code",
   "execution_count": 38,
   "id": "ea309384",
   "metadata": {},
   "outputs": [
    {
     "data": {
      "text/plain": [
       "'trieste june dear   joyce many thank    kind present   may imagine   carefully   shall read   work    teacher   friend surely   shall speak    new book dubliner   everybody    suppose capable    interested    english work   irish content     write   italian work    town    many thank also    wife   hope    soon offer    opportunity   talk      many page        opportunity   read    know      discover   dedalus      eye   look animal      also   strongly develop sense   smell   find   quality   hide    behind   awful handwriting     much well   mine believe   dear   joyce   truly ettore schmitz'"
      ]
     },
     "execution_count": 38,
     "metadata": {},
     "output_type": "execute_result"
    }
   ],
   "source": [
    "sett[\"lemmatized_tokens\"][3]"
   ]
  },
  {
   "cell_type": "code",
   "execution_count": 39,
   "id": "3552c2c3",
   "metadata": {},
   "outputs": [],
   "source": [
    "sett.to_csv(\"cleaned_svevo_dataset.csv\")"
   ]
  }
 ],
 "metadata": {
  "kernelspec": {
   "display_name": "Python 3 (ipykernel)",
   "language": "python",
   "name": "python3"
  },
  "language_info": {
   "codemirror_mode": {
    "name": "ipython",
    "version": 3
   },
   "file_extension": ".py",
   "mimetype": "text/x-python",
   "name": "python",
   "nbconvert_exporter": "python",
   "pygments_lexer": "ipython3",
   "version": "3.9.7"
  }
 },
 "nbformat": 4,
 "nbformat_minor": 5
}
