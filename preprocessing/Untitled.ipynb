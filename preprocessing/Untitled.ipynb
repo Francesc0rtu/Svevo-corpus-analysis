{
 "cells": [
  {
   "cell_type": "code",
   "execution_count": 1,
   "id": "736fc757",
   "metadata": {},
   "outputs": [
    {
     "name": "stderr",
     "output_type": "stream",
     "text": [
      "/tmp/ipykernel_145533/1079176345.py:22: SettingWithCopyWarning: \n",
      "A value is trying to be set on a copy of a slice from a DataFrame\n",
      "\n",
      "See the caveats in the documentation: https://pandas.pydata.org/pandas-docs/stable/user_guide/indexing.html#returning-a-view-versus-a-copy\n",
      "  sett[\"doc\"][x] = nlp_eng(sett[\"tokens\"][x])\n",
      "/tmp/ipykernel_145533/1079176345.py:20: SettingWithCopyWarning: \n",
      "A value is trying to be set on a copy of a slice from a DataFrame\n",
      "\n",
      "See the caveats in the documentation: https://pandas.pydata.org/pandas-docs/stable/user_guide/indexing.html#returning-a-view-versus-a-copy\n",
      "  sett[\"doc\"][x] = nlp_ita(sett[\"tokens\"][x])\n",
      "/tmp/ipykernel_145533/1079176345.py:24: SettingWithCopyWarning: \n",
      "A value is trying to be set on a copy of a slice from a DataFrame\n",
      "\n",
      "See the caveats in the documentation: https://pandas.pydata.org/pandas-docs/stable/user_guide/indexing.html#returning-a-view-versus-a-copy\n",
      "  sett[\"doc\"][x] = nlp_fr(sett[\"tokens\"][x])\n",
      "/tmp/ipykernel_145533/1079176345.py:26: SettingWithCopyWarning: \n",
      "A value is trying to be set on a copy of a slice from a DataFrame\n",
      "\n",
      "See the caveats in the documentation: https://pandas.pydata.org/pandas-docs/stable/user_guide/indexing.html#returning-a-view-versus-a-copy\n",
      "  sett[\"doc\"][x] = nlp_de(sett[\"tokens\"][x])\n",
      "/tmp/ipykernel_145533/1079176345.py:30: SettingWithCopyWarning: \n",
      "A value is trying to be set on a copy of a slice from a DataFrame\n",
      "\n",
      "See the caveats in the documentation: https://pandas.pydata.org/pandas-docs/stable/user_guide/indexing.html#returning-a-view-versus-a-copy\n",
      "  sett[\"lemmatized_tokens\"][i] = \" \".join(token.lemma_ for token in sett[\"doc\"][i])\n"
     ]
    }
   ],
   "source": [
    "import pandas\n",
    "import pandas as pd\n",
    "import numpy\n",
    "import spacy\n",
    "import sys\n",
    "\n",
    "def lemmatize():\n",
    "  sett = pd.read_csv(\"../csv/cleaned_svevo_dataset.csv\")\n",
    "  sett[\"doc\"] =\"\"\n",
    "  sett[\"lemmatized_tokens\"] = \"\"\n",
    "\n",
    "\n",
    "  nlp_ita = spacy.load(\"it_core_news_sm\")\n",
    "  nlp_eng = spacy.load(\"en_core_web_sm\")\n",
    "  nlp_fr = spacy.load(\"fr_core_news_sm\")\n",
    "  nlp_de = spacy.load(\"de_core_news_sm\")\n",
    "\n",
    "  for x in range(sett.shape[0]):\n",
    "      if sett[\"mainLanguage\"][x] == \"ITA\" :\n",
    "          sett[\"doc\"][x] = nlp_ita(sett[\"tokens\"][x])\n",
    "      if sett[\"mainLanguage\"][x] == \"ENG\" :\n",
    "          sett[\"doc\"][x] = nlp_eng(sett[\"tokens\"][x])\n",
    "      if sett[\"mainLanguage\"][x] == \"FRE\" :\n",
    "          sett[\"doc\"][x] = nlp_fr(sett[\"tokens\"][x])\n",
    "      if sett[\"mainLanguage\"][x] == \"GER\" :\n",
    "          sett[\"doc\"][x] = nlp_de(sett[\"tokens\"][x])\n",
    "\n",
    "\n",
    "  for i in range(sett.shape[0]):\n",
    "      sett[\"lemmatized_tokens\"][i] = \" \".join(token.lemma_ for token in sett[\"doc\"][i])\n",
    "\n",
    "  sett.to_csv(\"../csv/cleaned_svevo_dataset.csv\")\n",
    "\n",
    "\n",
    "if __name__ == \"__main__\":\n",
    "    lemmatize()"
   ]
  },
  {
   "cell_type": "code",
   "execution_count": 2,
   "id": "eef37341",
   "metadata": {},
   "outputs": [],
   "source": [
    "  sett = pd.read_csv(\"../csv/cleaned_svevo_dataset.csv\")\n",
    "  sett[\"doc\"] =\"\"\n",
    "  sett[\"lemmatized_tokens\"] = \"\""
   ]
  },
  {
   "cell_type": "code",
   "execution_count": 4,
   "id": "17ede55c",
   "metadata": {},
   "outputs": [
    {
     "name": "stderr",
     "output_type": "stream",
     "text": [
      "/tmp/ipykernel_145533/4119525306.py:10: SettingWithCopyWarning: \n",
      "A value is trying to be set on a copy of a slice from a DataFrame\n",
      "\n",
      "See the caveats in the documentation: https://pandas.pydata.org/pandas-docs/stable/user_guide/indexing.html#returning-a-view-versus-a-copy\n",
      "  sett[\"doc\"][x] = nlp_eng(sett[\"tokens\"][x])\n",
      "/tmp/ipykernel_145533/4119525306.py:8: SettingWithCopyWarning: \n",
      "A value is trying to be set on a copy of a slice from a DataFrame\n",
      "\n",
      "See the caveats in the documentation: https://pandas.pydata.org/pandas-docs/stable/user_guide/indexing.html#returning-a-view-versus-a-copy\n",
      "  sett[\"doc\"][x] = nlp_ita(sett[\"tokens\"][x])\n",
      "/tmp/ipykernel_145533/4119525306.py:12: SettingWithCopyWarning: \n",
      "A value is trying to be set on a copy of a slice from a DataFrame\n",
      "\n",
      "See the caveats in the documentation: https://pandas.pydata.org/pandas-docs/stable/user_guide/indexing.html#returning-a-view-versus-a-copy\n",
      "  sett[\"doc\"][x] = nlp_fr(sett[\"tokens\"][x])\n",
      "/tmp/ipykernel_145533/4119525306.py:14: SettingWithCopyWarning: \n",
      "A value is trying to be set on a copy of a slice from a DataFrame\n",
      "\n",
      "See the caveats in the documentation: https://pandas.pydata.org/pandas-docs/stable/user_guide/indexing.html#returning-a-view-versus-a-copy\n",
      "  sett[\"doc\"][x] = nlp_de(sett[\"tokens\"][x])\n",
      "/tmp/ipykernel_145533/4119525306.py:18: SettingWithCopyWarning: \n",
      "A value is trying to be set on a copy of a slice from a DataFrame\n",
      "\n",
      "See the caveats in the documentation: https://pandas.pydata.org/pandas-docs/stable/user_guide/indexing.html#returning-a-view-versus-a-copy\n",
      "  sett[\"lemmatized_tokens\"][i] = \" \".join(token.lemma_ for token in sett[\"doc\"][i])\n"
     ]
    }
   ],
   "source": [
    "nlp_ita = spacy.load(\"it_core_news_sm\")\n",
    "nlp_eng = spacy.load(\"en_core_web_sm\")\n",
    "nlp_fr = spacy.load(\"fr_core_news_sm\")\n",
    "nlp_de = spacy.load(\"de_core_news_sm\")\n",
    "\n",
    "for x in range(sett.shape[0]):\n",
    "  if sett[\"mainLanguage\"][x] == \"ITA\" :\n",
    "      sett[\"doc\"][x] = nlp_ita(sett[\"tokens\"][x])\n",
    "  if sett[\"mainLanguage\"][x] == \"ENG\" :\n",
    "      sett[\"doc\"][x] = nlp_eng(sett[\"tokens\"][x])\n",
    "  if sett[\"mainLanguage\"][x] == \"FRE\" :\n",
    "      sett[\"doc\"][x] = nlp_fr(sett[\"tokens\"][x])\n",
    "  if sett[\"mainLanguage\"][x] == \"GER\" :\n",
    "      sett[\"doc\"][x] = nlp_de(sett[\"tokens\"][x])\n",
    "\n",
    "\n",
    "for i in range(sett.shape[0]):\n",
    "    sett[\"lemmatized_tokens\"][i] = \" \".join(token.lemma_ for token in sett[\"doc\"][i])"
   ]
  },
  {
   "cell_type": "code",
   "execution_count": 5,
   "id": "d703c918",
   "metadata": {},
   "outputs": [],
   "source": [
    "x = sett[\"lemmatized_tokens\"]\n"
   ]
  },
  {
   "cell_type": "code",
   "execution_count": 8,
   "id": "fd5c7c5d",
   "metadata": {},
   "outputs": [
    {
     "data": {
      "text/plain": [
       "'h'"
      ]
     },
     "execution_count": 8,
     "metadata": {},
     "output_type": "execute_result"
    }
   ],
   "source": [
    "for token in sett[\"doc\"]"
   ]
  }
 ],
 "metadata": {
  "kernelspec": {
   "display_name": "Python 3 (ipykernel)",
   "language": "python",
   "name": "python3"
  },
  "language_info": {
   "codemirror_mode": {
    "name": "ipython",
    "version": 3
   },
   "file_extension": ".py",
   "mimetype": "text/x-python",
   "name": "python",
   "nbconvert_exporter": "python",
   "pygments_lexer": "ipython3",
   "version": "3.9.7"
  }
 },
 "nbformat": 4,
 "nbformat_minor": 5
}
